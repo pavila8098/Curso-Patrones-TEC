{
 "cells": [
  {
   "cell_type": "markdown",
   "metadata": {},
   "source": [
    "# Proyecto Final"
   ]
  },
  {
   "cell_type": "markdown",
   "metadata": {},
   "source": [
    "## 19AUG2021"
   ]
  },
  {
   "cell_type": "markdown",
   "metadata": {},
   "source": [
    "## Curso: TEC-BSC Reconocimiento de Patrones"
   ]
  },
  {
   "cell_type": "markdown",
   "metadata": {},
   "source": [
    "### Profesor: Msc. Felipe Meza"
   ]
  },
  {
   "cell_type": "markdown",
   "metadata": {},
   "source": [
    "### Alumnos: "
   ]
  },
  {
   "cell_type": "markdown",
   "metadata": {},
   "source": [
    "### - Oscar Castro"
   ]
  },
  {
   "cell_type": "markdown",
   "metadata": {},
   "source": [
    "### - Paul Avila"
   ]
  },
  {
   "cell_type": "code",
   "execution_count": 311,
   "metadata": {},
   "outputs": [],
   "source": [
    "import numpy as np\n",
    "from matplotlib import pyplot as plt\n",
    "%matplotlib inline"
   ]
  },
  {
   "cell_type": "code",
   "execution_count": 312,
   "metadata": {},
   "outputs": [],
   "source": [
    "import pandas as pd"
   ]
  },
  {
   "cell_type": "code",
   "execution_count": 313,
   "metadata": {
    "scrolled": true
   },
   "outputs": [],
   "source": [
    "Torque_forces = pd.read_csv(\"https://raw.githubusercontent.com/ocastroq/TEC_BSC_Reconocimiento_de_Patrones/main/Data%20set%20Torque%20values%20-%20Proyecto%20Final.csv\")"
   ]
  },
  {
   "cell_type": "code",
   "execution_count": 314,
   "metadata": {
    "scrolled": true
   },
   "outputs": [
    {
     "data": {
      "text/html": [
       "<div>\n",
       "<style scoped>\n",
       "    .dataframe tbody tr th:only-of-type {\n",
       "        vertical-align: middle;\n",
       "    }\n",
       "\n",
       "    .dataframe tbody tr th {\n",
       "        vertical-align: top;\n",
       "    }\n",
       "\n",
       "    .dataframe thead th {\n",
       "        text-align: right;\n",
       "    }\n",
       "</style>\n",
       "<table border=\"1\" class=\"dataframe\">\n",
       "  <thead>\n",
       "    <tr style=\"text-align: right;\">\n",
       "      <th></th>\n",
       "      <th>26575879-002</th>\n",
       "      <th>50550785-01</th>\n",
       "      <th>TOP ASSY ERCP SCOPE</th>\n",
       "      <th>4.055</th>\n",
       "      <th>6.055</th>\n",
       "      <th>1.35</th>\n",
       "      <th>1.305</th>\n",
       "      <th>9.1</th>\n",
       "      <th>3.255</th>\n",
       "      <th>8.615</th>\n",
       "      <th>4.19</th>\n",
       "      <th>6.06</th>\n",
       "      <th>4.045</th>\n",
       "      <th>FAIL</th>\n",
       "      <th>gallarb</th>\n",
       "    </tr>\n",
       "  </thead>\n",
       "  <tbody>\n",
       "    <tr>\n",
       "      <td>0</td>\n",
       "      <td>26575879-003</td>\n",
       "      <td>50550785-01</td>\n",
       "      <td>TOP ASSY ERCP SCOPE</td>\n",
       "      <td>3.865</td>\n",
       "      <td>4.880</td>\n",
       "      <td>3.610</td>\n",
       "      <td>0.450</td>\n",
       "      <td>7.560</td>\n",
       "      <td>3.340</td>\n",
       "      <td>7.135</td>\n",
       "      <td>4.910</td>\n",
       "      <td>5.305</td>\n",
       "      <td>2.815</td>\n",
       "      <td>PASS</td>\n",
       "      <td>gallarb</td>\n",
       "    </tr>\n",
       "    <tr>\n",
       "      <td>1</td>\n",
       "      <td>26575879-004</td>\n",
       "      <td>50550785-01</td>\n",
       "      <td>TOP ASSY ERCP SCOPE</td>\n",
       "      <td>3.515</td>\n",
       "      <td>5.035</td>\n",
       "      <td>1.550</td>\n",
       "      <td>0.670</td>\n",
       "      <td>4.670</td>\n",
       "      <td>4.195</td>\n",
       "      <td>6.340</td>\n",
       "      <td>4.090</td>\n",
       "      <td>5.030</td>\n",
       "      <td>3.465</td>\n",
       "      <td>PASS</td>\n",
       "      <td>gallarb</td>\n",
       "    </tr>\n",
       "    <tr>\n",
       "      <td>2</td>\n",
       "      <td>26575879-005</td>\n",
       "      <td>50550785-01</td>\n",
       "      <td>TOP ASSY ERCP SCOPE</td>\n",
       "      <td>3.995</td>\n",
       "      <td>5.635</td>\n",
       "      <td>0.780</td>\n",
       "      <td>1.890</td>\n",
       "      <td>6.390</td>\n",
       "      <td>3.475</td>\n",
       "      <td>7.850</td>\n",
       "      <td>5.160</td>\n",
       "      <td>5.720</td>\n",
       "      <td>4.430</td>\n",
       "      <td>PASS</td>\n",
       "      <td>gallarb</td>\n",
       "    </tr>\n",
       "    <tr>\n",
       "      <td>3</td>\n",
       "      <td>26575879-007</td>\n",
       "      <td>50550785-01</td>\n",
       "      <td>TOP ASSY ERCP SCOPE</td>\n",
       "      <td>3.470</td>\n",
       "      <td>4.565</td>\n",
       "      <td>0.770</td>\n",
       "      <td>1.025</td>\n",
       "      <td>6.060</td>\n",
       "      <td>4.980</td>\n",
       "      <td>9.150</td>\n",
       "      <td>3.980</td>\n",
       "      <td>4.505</td>\n",
       "      <td>3.465</td>\n",
       "      <td>FAIL</td>\n",
       "      <td>gallarb</td>\n",
       "    </tr>\n",
       "    <tr>\n",
       "      <td>4</td>\n",
       "      <td>26575879-008</td>\n",
       "      <td>50550785-01</td>\n",
       "      <td>TOP ASSY ERCP SCOPE</td>\n",
       "      <td>4.375</td>\n",
       "      <td>6.370</td>\n",
       "      <td>5.845</td>\n",
       "      <td>0.805</td>\n",
       "      <td>3.725</td>\n",
       "      <td>3.540</td>\n",
       "      <td>8.800</td>\n",
       "      <td>3.635</td>\n",
       "      <td>4.745</td>\n",
       "      <td>2.835</td>\n",
       "      <td>FAIL</td>\n",
       "      <td>gallarb</td>\n",
       "    </tr>\n",
       "  </tbody>\n",
       "</table>\n",
       "</div>"
      ],
      "text/plain": [
       "   26575879-002  50550785-01  TOP ASSY ERCP SCOPE  4.055  6.055   1.35  1.305  \\\n",
       "0  26575879-003  50550785-01  TOP ASSY ERCP SCOPE  3.865  4.880  3.610  0.450   \n",
       "1  26575879-004  50550785-01  TOP ASSY ERCP SCOPE  3.515  5.035  1.550  0.670   \n",
       "2  26575879-005  50550785-01  TOP ASSY ERCP SCOPE  3.995  5.635  0.780  1.890   \n",
       "3  26575879-007  50550785-01  TOP ASSY ERCP SCOPE  3.470  4.565  0.770  1.025   \n",
       "4  26575879-008  50550785-01  TOP ASSY ERCP SCOPE  4.375  6.370  5.845  0.805   \n",
       "\n",
       "     9.1  3.255  8.615   4.19   6.06  4.045  FAIL  gallarb  \n",
       "0  7.560  3.340  7.135  4.910  5.305  2.815  PASS  gallarb  \n",
       "1  4.670  4.195  6.340  4.090  5.030  3.465  PASS  gallarb  \n",
       "2  6.390  3.475  7.850  5.160  5.720  4.430  PASS  gallarb  \n",
       "3  6.060  4.980  9.150  3.980  4.505  3.465  FAIL  gallarb  \n",
       "4  3.725  3.540  8.800  3.635  4.745  2.835  FAIL  gallarb  "
      ]
     },
     "execution_count": 314,
     "metadata": {},
     "output_type": "execute_result"
    }
   ],
   "source": [
    "Torque_forces.head(5)"
   ]
  },
  {
   "cell_type": "code",
   "execution_count": 315,
   "metadata": {},
   "outputs": [],
   "source": [
    "column_names = ['Container','Material','Material Desc','Rec Down 70_5.3','Rec Down 95_9','Rec Elevator Lever Close_5.3','Rec Elevator Lever Open_5.3','Rec Left 90_9','Rec L/R Lock Force_8.3','Rec Right 125_9','Rec U/D Lock Force_5.3','Rec Up 130_9','Rec Up 70_5.3','RESULT','Submitter']"
   ]
  },
  {
   "cell_type": "code",
   "execution_count": 316,
   "metadata": {},
   "outputs": [],
   "source": [
    "Torque_forces = pd.read_csv(\"https://raw.githubusercontent.com/ocastroq/TEC_BSC_Reconocimiento_de_Patrones/main/Data%20set%20Torque%20values%20-%20Proyecto%20Final.csv\",names=column_names)"
   ]
  },
  {
   "cell_type": "code",
   "execution_count": 317,
   "metadata": {},
   "outputs": [
    {
     "data": {
      "text/html": [
       "<div>\n",
       "<style scoped>\n",
       "    .dataframe tbody tr th:only-of-type {\n",
       "        vertical-align: middle;\n",
       "    }\n",
       "\n",
       "    .dataframe tbody tr th {\n",
       "        vertical-align: top;\n",
       "    }\n",
       "\n",
       "    .dataframe thead th {\n",
       "        text-align: right;\n",
       "    }\n",
       "</style>\n",
       "<table border=\"1\" class=\"dataframe\">\n",
       "  <thead>\n",
       "    <tr style=\"text-align: right;\">\n",
       "      <th></th>\n",
       "      <th>Container</th>\n",
       "      <th>Material</th>\n",
       "      <th>Material Desc</th>\n",
       "      <th>Rec Down 70_5.3</th>\n",
       "      <th>Rec Down 95_9</th>\n",
       "      <th>Rec Elevator Lever Close_5.3</th>\n",
       "      <th>Rec Elevator Lever Open_5.3</th>\n",
       "      <th>Rec Left 90_9</th>\n",
       "      <th>Rec L/R Lock Force_8.3</th>\n",
       "      <th>Rec Right 125_9</th>\n",
       "      <th>Rec U/D Lock Force_5.3</th>\n",
       "      <th>Rec Up 130_9</th>\n",
       "      <th>Rec Up 70_5.3</th>\n",
       "      <th>RESULT</th>\n",
       "      <th>Submitter</th>\n",
       "    </tr>\n",
       "  </thead>\n",
       "  <tbody>\n",
       "    <tr>\n",
       "      <td>0</td>\n",
       "      <td>26575879-002</td>\n",
       "      <td>50550785-01</td>\n",
       "      <td>TOP ASSY ERCP SCOPE</td>\n",
       "      <td>4.055</td>\n",
       "      <td>6.055</td>\n",
       "      <td>1.35</td>\n",
       "      <td>1.305</td>\n",
       "      <td>9.10</td>\n",
       "      <td>3.255</td>\n",
       "      <td>8.615</td>\n",
       "      <td>4.19</td>\n",
       "      <td>6.060</td>\n",
       "      <td>4.045</td>\n",
       "      <td>FAIL</td>\n",
       "      <td>gallarb</td>\n",
       "    </tr>\n",
       "    <tr>\n",
       "      <td>1</td>\n",
       "      <td>26575879-003</td>\n",
       "      <td>50550785-01</td>\n",
       "      <td>TOP ASSY ERCP SCOPE</td>\n",
       "      <td>3.865</td>\n",
       "      <td>4.880</td>\n",
       "      <td>3.61</td>\n",
       "      <td>0.450</td>\n",
       "      <td>7.56</td>\n",
       "      <td>3.340</td>\n",
       "      <td>7.135</td>\n",
       "      <td>4.91</td>\n",
       "      <td>5.305</td>\n",
       "      <td>2.815</td>\n",
       "      <td>PASS</td>\n",
       "      <td>gallarb</td>\n",
       "    </tr>\n",
       "    <tr>\n",
       "      <td>2</td>\n",
       "      <td>26575879-004</td>\n",
       "      <td>50550785-01</td>\n",
       "      <td>TOP ASSY ERCP SCOPE</td>\n",
       "      <td>3.515</td>\n",
       "      <td>5.035</td>\n",
       "      <td>1.55</td>\n",
       "      <td>0.670</td>\n",
       "      <td>4.67</td>\n",
       "      <td>4.195</td>\n",
       "      <td>6.340</td>\n",
       "      <td>4.09</td>\n",
       "      <td>5.030</td>\n",
       "      <td>3.465</td>\n",
       "      <td>PASS</td>\n",
       "      <td>gallarb</td>\n",
       "    </tr>\n",
       "    <tr>\n",
       "      <td>3</td>\n",
       "      <td>26575879-005</td>\n",
       "      <td>50550785-01</td>\n",
       "      <td>TOP ASSY ERCP SCOPE</td>\n",
       "      <td>3.995</td>\n",
       "      <td>5.635</td>\n",
       "      <td>0.78</td>\n",
       "      <td>1.890</td>\n",
       "      <td>6.39</td>\n",
       "      <td>3.475</td>\n",
       "      <td>7.850</td>\n",
       "      <td>5.16</td>\n",
       "      <td>5.720</td>\n",
       "      <td>4.430</td>\n",
       "      <td>PASS</td>\n",
       "      <td>gallarb</td>\n",
       "    </tr>\n",
       "    <tr>\n",
       "      <td>4</td>\n",
       "      <td>26575879-007</td>\n",
       "      <td>50550785-01</td>\n",
       "      <td>TOP ASSY ERCP SCOPE</td>\n",
       "      <td>3.470</td>\n",
       "      <td>4.565</td>\n",
       "      <td>0.77</td>\n",
       "      <td>1.025</td>\n",
       "      <td>6.06</td>\n",
       "      <td>4.980</td>\n",
       "      <td>9.150</td>\n",
       "      <td>3.98</td>\n",
       "      <td>4.505</td>\n",
       "      <td>3.465</td>\n",
       "      <td>FAIL</td>\n",
       "      <td>gallarb</td>\n",
       "    </tr>\n",
       "  </tbody>\n",
       "</table>\n",
       "</div>"
      ],
      "text/plain": [
       "      Container     Material        Material Desc  Rec Down 70_5.3  \\\n",
       "0  26575879-002  50550785-01  TOP ASSY ERCP SCOPE            4.055   \n",
       "1  26575879-003  50550785-01  TOP ASSY ERCP SCOPE            3.865   \n",
       "2  26575879-004  50550785-01  TOP ASSY ERCP SCOPE            3.515   \n",
       "3  26575879-005  50550785-01  TOP ASSY ERCP SCOPE            3.995   \n",
       "4  26575879-007  50550785-01  TOP ASSY ERCP SCOPE            3.470   \n",
       "\n",
       "   Rec Down 95_9  Rec Elevator Lever Close_5.3  Rec Elevator Lever Open_5.3  \\\n",
       "0          6.055                          1.35                        1.305   \n",
       "1          4.880                          3.61                        0.450   \n",
       "2          5.035                          1.55                        0.670   \n",
       "3          5.635                          0.78                        1.890   \n",
       "4          4.565                          0.77                        1.025   \n",
       "\n",
       "   Rec Left 90_9  Rec L/R Lock Force_8.3  Rec Right 125_9  \\\n",
       "0           9.10                   3.255            8.615   \n",
       "1           7.56                   3.340            7.135   \n",
       "2           4.67                   4.195            6.340   \n",
       "3           6.39                   3.475            7.850   \n",
       "4           6.06                   4.980            9.150   \n",
       "\n",
       "   Rec U/D Lock Force_5.3  Rec Up 130_9  Rec Up 70_5.3 RESULT Submitter  \n",
       "0                    4.19         6.060          4.045   FAIL   gallarb  \n",
       "1                    4.91         5.305          2.815   PASS   gallarb  \n",
       "2                    4.09         5.030          3.465   PASS   gallarb  \n",
       "3                    5.16         5.720          4.430   PASS   gallarb  \n",
       "4                    3.98         4.505          3.465   FAIL   gallarb  "
      ]
     },
     "execution_count": 317,
     "metadata": {},
     "output_type": "execute_result"
    }
   ],
   "source": [
    "Torque_forces.head()"
   ]
  },
  {
   "cell_type": "code",
   "execution_count": 318,
   "metadata": {
    "scrolled": true
   },
   "outputs": [],
   "source": [
    "Torque_forces.drop(['Material','Material Desc','Submitter'],axis=1,inplace=True) "
   ]
  },
  {
   "cell_type": "code",
   "execution_count": 319,
   "metadata": {
    "scrolled": false
   },
   "outputs": [
    {
     "data": {
      "text/html": [
       "<div>\n",
       "<style scoped>\n",
       "    .dataframe tbody tr th:only-of-type {\n",
       "        vertical-align: middle;\n",
       "    }\n",
       "\n",
       "    .dataframe tbody tr th {\n",
       "        vertical-align: top;\n",
       "    }\n",
       "\n",
       "    .dataframe thead th {\n",
       "        text-align: right;\n",
       "    }\n",
       "</style>\n",
       "<table border=\"1\" class=\"dataframe\">\n",
       "  <thead>\n",
       "    <tr style=\"text-align: right;\">\n",
       "      <th></th>\n",
       "      <th>Container</th>\n",
       "      <th>Rec Down 70_5.3</th>\n",
       "      <th>Rec Down 95_9</th>\n",
       "      <th>Rec Elevator Lever Close_5.3</th>\n",
       "      <th>Rec Elevator Lever Open_5.3</th>\n",
       "      <th>Rec Left 90_9</th>\n",
       "      <th>Rec L/R Lock Force_8.3</th>\n",
       "      <th>Rec Right 125_9</th>\n",
       "      <th>Rec U/D Lock Force_5.3</th>\n",
       "      <th>Rec Up 130_9</th>\n",
       "      <th>Rec Up 70_5.3</th>\n",
       "      <th>RESULT</th>\n",
       "    </tr>\n",
       "  </thead>\n",
       "  <tbody>\n",
       "    <tr>\n",
       "      <td>0</td>\n",
       "      <td>26575879-002</td>\n",
       "      <td>4.055</td>\n",
       "      <td>6.055</td>\n",
       "      <td>1.35</td>\n",
       "      <td>1.305</td>\n",
       "      <td>9.10</td>\n",
       "      <td>3.255</td>\n",
       "      <td>8.615</td>\n",
       "      <td>4.19</td>\n",
       "      <td>6.060</td>\n",
       "      <td>4.045</td>\n",
       "      <td>FAIL</td>\n",
       "    </tr>\n",
       "    <tr>\n",
       "      <td>1</td>\n",
       "      <td>26575879-003</td>\n",
       "      <td>3.865</td>\n",
       "      <td>4.880</td>\n",
       "      <td>3.61</td>\n",
       "      <td>0.450</td>\n",
       "      <td>7.56</td>\n",
       "      <td>3.340</td>\n",
       "      <td>7.135</td>\n",
       "      <td>4.91</td>\n",
       "      <td>5.305</td>\n",
       "      <td>2.815</td>\n",
       "      <td>PASS</td>\n",
       "    </tr>\n",
       "    <tr>\n",
       "      <td>2</td>\n",
       "      <td>26575879-004</td>\n",
       "      <td>3.515</td>\n",
       "      <td>5.035</td>\n",
       "      <td>1.55</td>\n",
       "      <td>0.670</td>\n",
       "      <td>4.67</td>\n",
       "      <td>4.195</td>\n",
       "      <td>6.340</td>\n",
       "      <td>4.09</td>\n",
       "      <td>5.030</td>\n",
       "      <td>3.465</td>\n",
       "      <td>PASS</td>\n",
       "    </tr>\n",
       "    <tr>\n",
       "      <td>3</td>\n",
       "      <td>26575879-005</td>\n",
       "      <td>3.995</td>\n",
       "      <td>5.635</td>\n",
       "      <td>0.78</td>\n",
       "      <td>1.890</td>\n",
       "      <td>6.39</td>\n",
       "      <td>3.475</td>\n",
       "      <td>7.850</td>\n",
       "      <td>5.16</td>\n",
       "      <td>5.720</td>\n",
       "      <td>4.430</td>\n",
       "      <td>PASS</td>\n",
       "    </tr>\n",
       "    <tr>\n",
       "      <td>4</td>\n",
       "      <td>26575879-007</td>\n",
       "      <td>3.470</td>\n",
       "      <td>4.565</td>\n",
       "      <td>0.77</td>\n",
       "      <td>1.025</td>\n",
       "      <td>6.06</td>\n",
       "      <td>4.980</td>\n",
       "      <td>9.150</td>\n",
       "      <td>3.98</td>\n",
       "      <td>4.505</td>\n",
       "      <td>3.465</td>\n",
       "      <td>FAIL</td>\n",
       "    </tr>\n",
       "  </tbody>\n",
       "</table>\n",
       "</div>"
      ],
      "text/plain": [
       "      Container  Rec Down 70_5.3  Rec Down 95_9  Rec Elevator Lever Close_5.3  \\\n",
       "0  26575879-002            4.055          6.055                          1.35   \n",
       "1  26575879-003            3.865          4.880                          3.61   \n",
       "2  26575879-004            3.515          5.035                          1.55   \n",
       "3  26575879-005            3.995          5.635                          0.78   \n",
       "4  26575879-007            3.470          4.565                          0.77   \n",
       "\n",
       "   Rec Elevator Lever Open_5.3  Rec Left 90_9  Rec L/R Lock Force_8.3  \\\n",
       "0                        1.305           9.10                   3.255   \n",
       "1                        0.450           7.56                   3.340   \n",
       "2                        0.670           4.67                   4.195   \n",
       "3                        1.890           6.39                   3.475   \n",
       "4                        1.025           6.06                   4.980   \n",
       "\n",
       "   Rec Right 125_9  Rec U/D Lock Force_5.3  Rec Up 130_9  Rec Up 70_5.3 RESULT  \n",
       "0            8.615                    4.19         6.060          4.045   FAIL  \n",
       "1            7.135                    4.91         5.305          2.815   PASS  \n",
       "2            6.340                    4.09         5.030          3.465   PASS  \n",
       "3            7.850                    5.16         5.720          4.430   PASS  \n",
       "4            9.150                    3.98         4.505          3.465   FAIL  "
      ]
     },
     "execution_count": 319,
     "metadata": {},
     "output_type": "execute_result"
    }
   ],
   "source": [
    "Torque_forces.head()"
   ]
  },
  {
   "cell_type": "code",
   "execution_count": 320,
   "metadata": {},
   "outputs": [],
   "source": [
    "Torque_forces.replace(to_replace='FAIL',value=0,inplace=True)\n",
    "Torque_forces.replace(to_replace='PASS',value=1,inplace=True)\n",
    "Torque_forces.replace(to_replace='REWORK',value=2,inplace=True)"
   ]
  },
  {
   "cell_type": "code",
   "execution_count": 321,
   "metadata": {
    "scrolled": true
   },
   "outputs": [
    {
     "data": {
      "text/html": [
       "<div>\n",
       "<style scoped>\n",
       "    .dataframe tbody tr th:only-of-type {\n",
       "        vertical-align: middle;\n",
       "    }\n",
       "\n",
       "    .dataframe tbody tr th {\n",
       "        vertical-align: top;\n",
       "    }\n",
       "\n",
       "    .dataframe thead th {\n",
       "        text-align: right;\n",
       "    }\n",
       "</style>\n",
       "<table border=\"1\" class=\"dataframe\">\n",
       "  <thead>\n",
       "    <tr style=\"text-align: right;\">\n",
       "      <th></th>\n",
       "      <th>Container</th>\n",
       "      <th>Rec Down 70_5.3</th>\n",
       "      <th>Rec Down 95_9</th>\n",
       "      <th>Rec Elevator Lever Close_5.3</th>\n",
       "      <th>Rec Elevator Lever Open_5.3</th>\n",
       "      <th>Rec Left 90_9</th>\n",
       "      <th>Rec L/R Lock Force_8.3</th>\n",
       "      <th>Rec Right 125_9</th>\n",
       "      <th>Rec U/D Lock Force_5.3</th>\n",
       "      <th>Rec Up 130_9</th>\n",
       "      <th>Rec Up 70_5.3</th>\n",
       "      <th>RESULT</th>\n",
       "    </tr>\n",
       "  </thead>\n",
       "  <tbody>\n",
       "    <tr>\n",
       "      <td>0</td>\n",
       "      <td>26575879-002</td>\n",
       "      <td>4.055</td>\n",
       "      <td>6.055</td>\n",
       "      <td>1.35</td>\n",
       "      <td>1.305</td>\n",
       "      <td>9.10</td>\n",
       "      <td>3.255</td>\n",
       "      <td>8.615</td>\n",
       "      <td>4.19</td>\n",
       "      <td>6.060</td>\n",
       "      <td>4.045</td>\n",
       "      <td>0</td>\n",
       "    </tr>\n",
       "    <tr>\n",
       "      <td>1</td>\n",
       "      <td>26575879-003</td>\n",
       "      <td>3.865</td>\n",
       "      <td>4.880</td>\n",
       "      <td>3.61</td>\n",
       "      <td>0.450</td>\n",
       "      <td>7.56</td>\n",
       "      <td>3.340</td>\n",
       "      <td>7.135</td>\n",
       "      <td>4.91</td>\n",
       "      <td>5.305</td>\n",
       "      <td>2.815</td>\n",
       "      <td>1</td>\n",
       "    </tr>\n",
       "    <tr>\n",
       "      <td>2</td>\n",
       "      <td>26575879-004</td>\n",
       "      <td>3.515</td>\n",
       "      <td>5.035</td>\n",
       "      <td>1.55</td>\n",
       "      <td>0.670</td>\n",
       "      <td>4.67</td>\n",
       "      <td>4.195</td>\n",
       "      <td>6.340</td>\n",
       "      <td>4.09</td>\n",
       "      <td>5.030</td>\n",
       "      <td>3.465</td>\n",
       "      <td>1</td>\n",
       "    </tr>\n",
       "    <tr>\n",
       "      <td>3</td>\n",
       "      <td>26575879-005</td>\n",
       "      <td>3.995</td>\n",
       "      <td>5.635</td>\n",
       "      <td>0.78</td>\n",
       "      <td>1.890</td>\n",
       "      <td>6.39</td>\n",
       "      <td>3.475</td>\n",
       "      <td>7.850</td>\n",
       "      <td>5.16</td>\n",
       "      <td>5.720</td>\n",
       "      <td>4.430</td>\n",
       "      <td>1</td>\n",
       "    </tr>\n",
       "    <tr>\n",
       "      <td>4</td>\n",
       "      <td>26575879-007</td>\n",
       "      <td>3.470</td>\n",
       "      <td>4.565</td>\n",
       "      <td>0.77</td>\n",
       "      <td>1.025</td>\n",
       "      <td>6.06</td>\n",
       "      <td>4.980</td>\n",
       "      <td>9.150</td>\n",
       "      <td>3.98</td>\n",
       "      <td>4.505</td>\n",
       "      <td>3.465</td>\n",
       "      <td>0</td>\n",
       "    </tr>\n",
       "  </tbody>\n",
       "</table>\n",
       "</div>"
      ],
      "text/plain": [
       "      Container  Rec Down 70_5.3  Rec Down 95_9  Rec Elevator Lever Close_5.3  \\\n",
       "0  26575879-002            4.055          6.055                          1.35   \n",
       "1  26575879-003            3.865          4.880                          3.61   \n",
       "2  26575879-004            3.515          5.035                          1.55   \n",
       "3  26575879-005            3.995          5.635                          0.78   \n",
       "4  26575879-007            3.470          4.565                          0.77   \n",
       "\n",
       "   Rec Elevator Lever Open_5.3  Rec Left 90_9  Rec L/R Lock Force_8.3  \\\n",
       "0                        1.305           9.10                   3.255   \n",
       "1                        0.450           7.56                   3.340   \n",
       "2                        0.670           4.67                   4.195   \n",
       "3                        1.890           6.39                   3.475   \n",
       "4                        1.025           6.06                   4.980   \n",
       "\n",
       "   Rec Right 125_9  Rec U/D Lock Force_5.3  Rec Up 130_9  Rec Up 70_5.3  \\\n",
       "0            8.615                    4.19         6.060          4.045   \n",
       "1            7.135                    4.91         5.305          2.815   \n",
       "2            6.340                    4.09         5.030          3.465   \n",
       "3            7.850                    5.16         5.720          4.430   \n",
       "4            9.150                    3.98         4.505          3.465   \n",
       "\n",
       "   RESULT  \n",
       "0       0  \n",
       "1       1  \n",
       "2       1  \n",
       "3       1  \n",
       "4       0  "
      ]
     },
     "execution_count": 321,
     "metadata": {},
     "output_type": "execute_result"
    }
   ],
   "source": [
    "Torque_forces.head(5)"
   ]
  },
  {
   "cell_type": "code",
   "execution_count": 322,
   "metadata": {},
   "outputs": [
    {
     "name": "stdout",
     "output_type": "stream",
     "text": [
      "<class 'pandas.core.frame.DataFrame'>\n",
      "RangeIndex: 1170 entries, 0 to 1169\n",
      "Data columns (total 12 columns):\n",
      "Container                       1170 non-null object\n",
      "Rec Down 70_5.3                 1170 non-null float64\n",
      "Rec Down 95_9                   1170 non-null float64\n",
      "Rec Elevator Lever Close_5.3    1170 non-null float64\n",
      "Rec Elevator Lever Open_5.3     1170 non-null float64\n",
      "Rec Left 90_9                   1170 non-null float64\n",
      "Rec L/R Lock Force_8.3          1170 non-null float64\n",
      "Rec Right 125_9                 1170 non-null float64\n",
      "Rec U/D Lock Force_5.3          1170 non-null float64\n",
      "Rec Up 130_9                    1170 non-null float64\n",
      "Rec Up 70_5.3                   1170 non-null float64\n",
      "RESULT                          1170 non-null int64\n",
      "dtypes: float64(10), int64(1), object(1)\n",
      "memory usage: 109.8+ KB\n"
     ]
    }
   ],
   "source": [
    "Torque_forces.info()"
   ]
  },
  {
   "cell_type": "code",
   "execution_count": 323,
   "metadata": {},
   "outputs": [
    {
     "data": {
      "text/html": [
       "<div>\n",
       "<style scoped>\n",
       "    .dataframe tbody tr th:only-of-type {\n",
       "        vertical-align: middle;\n",
       "    }\n",
       "\n",
       "    .dataframe tbody tr th {\n",
       "        vertical-align: top;\n",
       "    }\n",
       "\n",
       "    .dataframe thead th {\n",
       "        text-align: right;\n",
       "    }\n",
       "</style>\n",
       "<table border=\"1\" class=\"dataframe\">\n",
       "  <thead>\n",
       "    <tr style=\"text-align: right;\">\n",
       "      <th></th>\n",
       "      <th>Container</th>\n",
       "      <th>Rec Down 70_5.3</th>\n",
       "      <th>Rec Down 95_9</th>\n",
       "      <th>Rec Elevator Lever Close_5.3</th>\n",
       "      <th>Rec Elevator Lever Open_5.3</th>\n",
       "      <th>Rec Left 90_9</th>\n",
       "      <th>Rec L/R Lock Force_8.3</th>\n",
       "      <th>Rec Right 125_9</th>\n",
       "      <th>Rec U/D Lock Force_5.3</th>\n",
       "      <th>Rec Up 130_9</th>\n",
       "      <th>Rec Up 70_5.3</th>\n",
       "      <th>RESULT</th>\n",
       "    </tr>\n",
       "  </thead>\n",
       "  <tbody>\n",
       "    <tr>\n",
       "      <td>0</td>\n",
       "      <td>26575879-002</td>\n",
       "      <td>4.055</td>\n",
       "      <td>6.055</td>\n",
       "      <td>1.35</td>\n",
       "      <td>1.305</td>\n",
       "      <td>9.10</td>\n",
       "      <td>3.255</td>\n",
       "      <td>8.615</td>\n",
       "      <td>4.19</td>\n",
       "      <td>6.060</td>\n",
       "      <td>4.045</td>\n",
       "      <td>0</td>\n",
       "    </tr>\n",
       "    <tr>\n",
       "      <td>1</td>\n",
       "      <td>26575879-003</td>\n",
       "      <td>3.865</td>\n",
       "      <td>4.880</td>\n",
       "      <td>3.61</td>\n",
       "      <td>0.450</td>\n",
       "      <td>7.56</td>\n",
       "      <td>3.340</td>\n",
       "      <td>7.135</td>\n",
       "      <td>4.91</td>\n",
       "      <td>5.305</td>\n",
       "      <td>2.815</td>\n",
       "      <td>1</td>\n",
       "    </tr>\n",
       "    <tr>\n",
       "      <td>2</td>\n",
       "      <td>26575879-004</td>\n",
       "      <td>3.515</td>\n",
       "      <td>5.035</td>\n",
       "      <td>1.55</td>\n",
       "      <td>0.670</td>\n",
       "      <td>4.67</td>\n",
       "      <td>4.195</td>\n",
       "      <td>6.340</td>\n",
       "      <td>4.09</td>\n",
       "      <td>5.030</td>\n",
       "      <td>3.465</td>\n",
       "      <td>1</td>\n",
       "    </tr>\n",
       "    <tr>\n",
       "      <td>3</td>\n",
       "      <td>26575879-005</td>\n",
       "      <td>3.995</td>\n",
       "      <td>5.635</td>\n",
       "      <td>0.78</td>\n",
       "      <td>1.890</td>\n",
       "      <td>6.39</td>\n",
       "      <td>3.475</td>\n",
       "      <td>7.850</td>\n",
       "      <td>5.16</td>\n",
       "      <td>5.720</td>\n",
       "      <td>4.430</td>\n",
       "      <td>1</td>\n",
       "    </tr>\n",
       "    <tr>\n",
       "      <td>4</td>\n",
       "      <td>26575879-007</td>\n",
       "      <td>3.470</td>\n",
       "      <td>4.565</td>\n",
       "      <td>0.77</td>\n",
       "      <td>1.025</td>\n",
       "      <td>6.06</td>\n",
       "      <td>4.980</td>\n",
       "      <td>9.150</td>\n",
       "      <td>3.98</td>\n",
       "      <td>4.505</td>\n",
       "      <td>3.465</td>\n",
       "      <td>0</td>\n",
       "    </tr>\n",
       "  </tbody>\n",
       "</table>\n",
       "</div>"
      ],
      "text/plain": [
       "      Container  Rec Down 70_5.3  Rec Down 95_9  Rec Elevator Lever Close_5.3  \\\n",
       "0  26575879-002            4.055          6.055                          1.35   \n",
       "1  26575879-003            3.865          4.880                          3.61   \n",
       "2  26575879-004            3.515          5.035                          1.55   \n",
       "3  26575879-005            3.995          5.635                          0.78   \n",
       "4  26575879-007            3.470          4.565                          0.77   \n",
       "\n",
       "   Rec Elevator Lever Open_5.3  Rec Left 90_9  Rec L/R Lock Force_8.3  \\\n",
       "0                        1.305           9.10                   3.255   \n",
       "1                        0.450           7.56                   3.340   \n",
       "2                        0.670           4.67                   4.195   \n",
       "3                        1.890           6.39                   3.475   \n",
       "4                        1.025           6.06                   4.980   \n",
       "\n",
       "   Rec Right 125_9  Rec U/D Lock Force_5.3  Rec Up 130_9  Rec Up 70_5.3  \\\n",
       "0            8.615                    4.19         6.060          4.045   \n",
       "1            7.135                    4.91         5.305          2.815   \n",
       "2            6.340                    4.09         5.030          3.465   \n",
       "3            7.850                    5.16         5.720          4.430   \n",
       "4            9.150                    3.98         4.505          3.465   \n",
       "\n",
       "   RESULT  \n",
       "0       0  \n",
       "1       1  \n",
       "2       1  \n",
       "3       1  \n",
       "4       0  "
      ]
     },
     "execution_count": 323,
     "metadata": {},
     "output_type": "execute_result"
    }
   ],
   "source": [
    "Torque_forces.head(5)"
   ]
  },
  {
   "cell_type": "code",
   "execution_count": 324,
   "metadata": {},
   "outputs": [],
   "source": [
    "features=Torque_forces[['Rec Down 70_5.3','Rec Down 95_9','Rec Elevator Lever Close_5.3','Rec Elevator Lever Open_5.3','Rec Left 90_9','Rec L/R Lock Force_8.3','Rec Right 125_9','Rec U/D Lock Force_5.3','Rec Up 130_9','Rec Up 70_5.3']]"
   ]
  },
  {
   "cell_type": "code",
   "execution_count": 325,
   "metadata": {},
   "outputs": [],
   "source": [
    "labels=Torque_forces['RESULT']"
   ]
  },
  {
   "cell_type": "code",
   "execution_count": 326,
   "metadata": {},
   "outputs": [],
   "source": [
    "from sklearn.model_selection import train_test_split"
   ]
  },
  {
   "cell_type": "code",
   "execution_count": 327,
   "metadata": {},
   "outputs": [],
   "source": [
    "X_train, X_test, y_train, y_test = train_test_split(features,labels, random_state=13,train_size=0.8)"
   ]
  },
  {
   "cell_type": "code",
   "execution_count": 328,
   "metadata": {},
   "outputs": [
    {
     "data": {
      "text/plain": [
       "(936, 10)"
      ]
     },
     "execution_count": 328,
     "metadata": {},
     "output_type": "execute_result"
    }
   ],
   "source": [
    "X_train.shape"
   ]
  },
  {
   "cell_type": "code",
   "execution_count": 329,
   "metadata": {},
   "outputs": [
    {
     "data": {
      "text/plain": [
       "(234, 10)"
      ]
     },
     "execution_count": 329,
     "metadata": {},
     "output_type": "execute_result"
    }
   ],
   "source": [
    "X_test.shape"
   ]
  },
  {
   "cell_type": "code",
   "execution_count": 330,
   "metadata": {},
   "outputs": [
    {
     "data": {
      "text/plain": [
       "(936,)"
      ]
     },
     "execution_count": 330,
     "metadata": {},
     "output_type": "execute_result"
    }
   ],
   "source": [
    "y_train.shape"
   ]
  },
  {
   "cell_type": "code",
   "execution_count": 331,
   "metadata": {},
   "outputs": [
    {
     "data": {
      "text/plain": [
       "(234,)"
      ]
     },
     "execution_count": 331,
     "metadata": {},
     "output_type": "execute_result"
    }
   ],
   "source": [
    "y_test.shape"
   ]
  },
  {
   "cell_type": "code",
   "execution_count": 332,
   "metadata": {},
   "outputs": [],
   "source": [
    "from sklearn.tree import DecisionTreeClassifier"
   ]
  },
  {
   "cell_type": "code",
   "execution_count": 333,
   "metadata": {},
   "outputs": [],
   "source": [
    "DecisionTreeModel = DecisionTreeClassifier(max_depth = 3)"
   ]
  },
  {
   "cell_type": "code",
   "execution_count": 334,
   "metadata": {},
   "outputs": [
    {
     "data": {
      "text/plain": [
       "DecisionTreeClassifier(class_weight=None, criterion='gini', max_depth=3,\n",
       "                       max_features=None, max_leaf_nodes=None,\n",
       "                       min_impurity_decrease=0.0, min_impurity_split=None,\n",
       "                       min_samples_leaf=1, min_samples_split=2,\n",
       "                       min_weight_fraction_leaf=0.0, presort=False,\n",
       "                       random_state=None, splitter='best')"
      ]
     },
     "execution_count": 334,
     "metadata": {},
     "output_type": "execute_result"
    }
   ],
   "source": [
    "DecisionTreeModel.fit(X_train,y_train)"
   ]
  },
  {
   "cell_type": "code",
   "execution_count": 335,
   "metadata": {},
   "outputs": [],
   "source": [
    "from sklearn.metrics import accuracy_score"
   ]
  },
  {
   "cell_type": "code",
   "execution_count": 336,
   "metadata": {},
   "outputs": [],
   "source": [
    "y_predict = DecisionTreeModel.predict(X_test)"
   ]
  },
  {
   "cell_type": "code",
   "execution_count": 337,
   "metadata": {},
   "outputs": [
    {
     "data": {
      "text/plain": [
       "0.8461538461538461"
      ]
     },
     "execution_count": 337,
     "metadata": {},
     "output_type": "execute_result"
    }
   ],
   "source": [
    "dt1 = accuracy_score(y_test, y_predict)\n",
    "dt1"
   ]
  },
  {
   "cell_type": "code",
   "execution_count": 338,
   "metadata": {},
   "outputs": [],
   "source": [
    "y_predict = DecisionTreeModel.predict(X_train)"
   ]
  },
  {
   "cell_type": "code",
   "execution_count": 339,
   "metadata": {},
   "outputs": [
    {
     "data": {
      "text/plain": [
       "0.8771367521367521"
      ]
     },
     "execution_count": 339,
     "metadata": {},
     "output_type": "execute_result"
    }
   ],
   "source": [
    "dt2 = accuracy_score(y_train, y_predict)\n",
    "dt2"
   ]
  },
  {
   "cell_type": "code",
   "execution_count": 340,
   "metadata": {},
   "outputs": [],
   "source": [
    "DecisionTreeModel = DecisionTreeClassifier(max_depth = 6)"
   ]
  },
  {
   "cell_type": "code",
   "execution_count": 341,
   "metadata": {},
   "outputs": [
    {
     "data": {
      "text/plain": [
       "DecisionTreeClassifier(class_weight=None, criterion='gini', max_depth=6,\n",
       "                       max_features=None, max_leaf_nodes=None,\n",
       "                       min_impurity_decrease=0.0, min_impurity_split=None,\n",
       "                       min_samples_leaf=1, min_samples_split=2,\n",
       "                       min_weight_fraction_leaf=0.0, presort=False,\n",
       "                       random_state=None, splitter='best')"
      ]
     },
     "execution_count": 341,
     "metadata": {},
     "output_type": "execute_result"
    }
   ],
   "source": [
    "DecisionTreeModel.fit(X_train,y_train)"
   ]
  },
  {
   "cell_type": "code",
   "execution_count": 342,
   "metadata": {},
   "outputs": [],
   "source": [
    "y_predict = DecisionTreeModel.predict(X_test)"
   ]
  },
  {
   "cell_type": "code",
   "execution_count": 343,
   "metadata": {},
   "outputs": [
    {
     "data": {
      "text/plain": [
       "0.9017094017094017"
      ]
     },
     "execution_count": 343,
     "metadata": {},
     "output_type": "execute_result"
    }
   ],
   "source": [
    "dt1 = accuracy_score(y_test, y_predict)\n",
    "dt1"
   ]
  },
  {
   "cell_type": "code",
   "execution_count": 344,
   "metadata": {},
   "outputs": [],
   "source": [
    "y_predict = DecisionTreeModel.predict(X_train)"
   ]
  },
  {
   "cell_type": "code",
   "execution_count": 345,
   "metadata": {},
   "outputs": [
    {
     "data": {
      "text/plain": [
       "0.9444444444444444"
      ]
     },
     "execution_count": 345,
     "metadata": {},
     "output_type": "execute_result"
    }
   ],
   "source": [
    "dt2 = accuracy_score(y_train, y_predict)\n",
    "dt2"
   ]
  },
  {
   "cell_type": "code",
   "execution_count": 346,
   "metadata": {},
   "outputs": [],
   "source": [
    "DecisionTreeModel = DecisionTreeClassifier(max_depth = 10)"
   ]
  },
  {
   "cell_type": "code",
   "execution_count": 347,
   "metadata": {},
   "outputs": [
    {
     "data": {
      "text/plain": [
       "DecisionTreeClassifier(class_weight=None, criterion='gini', max_depth=10,\n",
       "                       max_features=None, max_leaf_nodes=None,\n",
       "                       min_impurity_decrease=0.0, min_impurity_split=None,\n",
       "                       min_samples_leaf=1, min_samples_split=2,\n",
       "                       min_weight_fraction_leaf=0.0, presort=False,\n",
       "                       random_state=None, splitter='best')"
      ]
     },
     "execution_count": 347,
     "metadata": {},
     "output_type": "execute_result"
    }
   ],
   "source": [
    "DecisionTreeModel.fit(X_train,y_train)"
   ]
  },
  {
   "cell_type": "code",
   "execution_count": 348,
   "metadata": {},
   "outputs": [],
   "source": [
    "y_predict = DecisionTreeModel.predict(X_test)"
   ]
  },
  {
   "cell_type": "code",
   "execution_count": 349,
   "metadata": {},
   "outputs": [
    {
     "data": {
      "text/plain": [
       "0.9743589743589743"
      ]
     },
     "execution_count": 349,
     "metadata": {},
     "output_type": "execute_result"
    }
   ],
   "source": [
    "dt1 = accuracy_score(y_test, y_predict)\n",
    "dt1"
   ]
  },
  {
   "cell_type": "code",
   "execution_count": 350,
   "metadata": {},
   "outputs": [],
   "source": [
    "y_predict = DecisionTreeModel.predict(X_train)"
   ]
  },
  {
   "cell_type": "code",
   "execution_count": 351,
   "metadata": {},
   "outputs": [
    {
     "data": {
      "text/plain": [
       "1.0"
      ]
     },
     "execution_count": 351,
     "metadata": {},
     "output_type": "execute_result"
    }
   ],
   "source": [
    "dt2 = accuracy_score(y_train, y_predict)\n",
    "dt2"
   ]
  },
  {
   "cell_type": "code",
   "execution_count": 352,
   "metadata": {},
   "outputs": [],
   "source": [
    "from sklearn.model_selection import train_test_split\n",
    "from sklearn.neighbors import KNeighborsClassifier\n",
    "from sklearn.preprocessing import MinMaxScaler"
   ]
  },
  {
   "cell_type": "code",
   "execution_count": 353,
   "metadata": {},
   "outputs": [],
   "source": [
    "X_train, X_test, y_train, y_test = train_test_split(features, labels, test_size=0.2, random_state=42)"
   ]
  },
  {
   "cell_type": "code",
   "execution_count": 354,
   "metadata": {},
   "outputs": [],
   "source": [
    "training_accuracy = []\n",
    "test_accuracy = []"
   ]
  },
  {
   "cell_type": "code",
   "execution_count": 355,
   "metadata": {},
   "outputs": [
    {
     "data": {
      "text/plain": [
       "<matplotlib.legend.Legend at 0x28768064988>"
      ]
     },
     "execution_count": 355,
     "metadata": {},
     "output_type": "execute_result"
    },
    {
     "data": {
      "image/png": "[encoded data removed]",
      "text/plain": [
       "<Figure size 432x288 with 1 Axes>"
      ]
     },
     "metadata": {
      "needs_background": "light"
     },
     "output_type": "display_data"
    }
   ],
   "source": [
    "import matplotlib.pyplot as plt\n",
    "%matplotlib inline\n",
    "\n",
    "neighbors_settings = range(1, 11)\n",
    "for n_neighbors in neighbors_settings:\n",
    "    # se construye el modelo de clasificacion\n",
    "    clf = KNeighborsClassifier(n_neighbors=n_neighbors)\n",
    "    clf.fit(X_train, y_train)\n",
    "    # se almacena el \"training set accuracy\"\n",
    "    training_accuracy.append(clf.score(X_train, y_train))\n",
    "    # se almacena la \"generalization accuracy\"\n",
    "    test_accuracy.append(clf.score(X_test, y_test))\n",
    "plt.plot(neighbors_settings, training_accuracy, label=\"training accuracy\")\n",
    "plt.plot(neighbors_settings, test_accuracy, label=\"test accuracy\")\n",
    "plt.ylabel(\"Accuracy\")\n",
    "plt.xlabel(\"n_neighbors\")\n",
    "plt.legend()"
   ]
  },
  {
   "cell_type": "code",
   "execution_count": 356,
   "metadata": {},
   "outputs": [
    {
     "name": "stdout",
     "output_type": "stream",
     "text": [
      "Accuracy of K-NN classifier on training set: 0.91\n",
      "Accuracy of K-NN classifier on test set: 0.87\n"
     ]
    }
   ],
   "source": [
    "scaler = MinMaxScaler()\n",
    "X_train = scaler.fit_transform(X_train)\n",
    "X_test = scaler.transform(X_test)\n",
    "n_neighbors = 4\n",
    "knn = KNeighborsClassifier(n_neighbors)\n",
    "knn.fit(X_train, y_train)\n",
    "print('Accuracy of K-NN classifier on training set: {:.2f}'\n",
    "     .format(knn.score(X_train, y_train)))\n",
    "print('Accuracy of K-NN classifier on test set: {:.2f}'\n",
    "     .format(knn.score(X_test, y_test)))"
   ]
  },
  {
   "cell_type": "code",
   "execution_count": 357,
   "metadata": {},
   "outputs": [],
   "source": [
    "from sklearn.linear_model import LogisticRegression\n",
    "from sklearn.model_selection import train_test_split\n",
    "from sklearn.metrics import accuracy_score"
   ]
  },
  {
   "cell_type": "code",
   "execution_count": 358,
   "metadata": {},
   "outputs": [
    {
     "name": "stdout",
     "output_type": "stream",
     "text": [
      "Training set score: 0.8034\n",
      "Test set score: 0.8248\n"
     ]
    },
    {
     "name": "stderr",
     "output_type": "stream",
     "text": [
      "C:\\Users\\avilagj\\AppData\\Local\\Continuum\\anaconda3\\lib\\site-packages\\sklearn\\linear_model\\logistic.py:469: FutureWarning: Default multi_class will be changed to 'auto' in 0.22. Specify the multi_class option to silence this warning.\n",
      "  \"this warning.\", FutureWarning)\n"
     ]
    }
   ],
   "source": [
    "logreg = LogisticRegression(solver='liblinear').fit(X_train, y_train)\n",
    "print(\"Training set score: {:.4f}\".format(logreg.score(X_train, y_train)))\n",
    "print(\"Test set score: {:.4f}\".format(logreg.score(X_test, y_test)))"
   ]
  },
  {
   "cell_type": "code",
   "execution_count": 359,
   "metadata": {},
   "outputs": [
    {
     "name": "stderr",
     "output_type": "stream",
     "text": [
      "C:\\Users\\avilagj\\AppData\\Local\\Continuum\\anaconda3\\lib\\site-packages\\sklearn\\linear_model\\logistic.py:469: FutureWarning: Default multi_class will be changed to 'auto' in 0.22. Specify the multi_class option to silence this warning.\n",
      "  \"this warning.\", FutureWarning)\n",
      "C:\\Users\\avilagj\\AppData\\Local\\Continuum\\anaconda3\\lib\\site-packages\\sklearn\\linear_model\\logistic.py:469: FutureWarning: Default multi_class will be changed to 'auto' in 0.22. Specify the multi_class option to silence this warning.\n",
      "  \"this warning.\", FutureWarning)\n",
      "C:\\Users\\avilagj\\AppData\\Local\\Continuum\\anaconda3\\lib\\site-packages\\sklearn\\linear_model\\logistic.py:469: FutureWarning: Default multi_class will be changed to 'auto' in 0.22. Specify the multi_class option to silence this warning.\n",
      "  \"this warning.\", FutureWarning)\n",
      "C:\\Users\\avilagj\\AppData\\Local\\Continuum\\anaconda3\\lib\\site-packages\\sklearn\\linear_model\\logistic.py:469: FutureWarning: Default multi_class will be changed to 'auto' in 0.22. Specify the multi_class option to silence this warning.\n",
      "  \"this warning.\", FutureWarning)\n",
      "C:\\Users\\avilagj\\AppData\\Local\\Continuum\\anaconda3\\lib\\site-packages\\sklearn\\linear_model\\logistic.py:469: FutureWarning: Default multi_class will be changed to 'auto' in 0.22. Specify the multi_class option to silence this warning.\n",
      "  \"this warning.\", FutureWarning)\n",
      "C:\\Users\\avilagj\\AppData\\Local\\Continuum\\anaconda3\\lib\\site-packages\\sklearn\\linear_model\\logistic.py:469: FutureWarning: Default multi_class will be changed to 'auto' in 0.22. Specify the multi_class option to silence this warning.\n",
      "  \"this warning.\", FutureWarning)\n",
      "C:\\Users\\avilagj\\AppData\\Local\\Continuum\\anaconda3\\lib\\site-packages\\sklearn\\linear_model\\logistic.py:469: FutureWarning: Default multi_class will be changed to 'auto' in 0.22. Specify the multi_class option to silence this warning.\n",
      "  \"this warning.\", FutureWarning)\n",
      "C:\\Users\\avilagj\\AppData\\Local\\Continuum\\anaconda3\\lib\\site-packages\\sklearn\\linear_model\\logistic.py:469: FutureWarning: Default multi_class will be changed to 'auto' in 0.22. Specify the multi_class option to silence this warning.\n",
      "  \"this warning.\", FutureWarning)\n",
      "C:\\Users\\avilagj\\AppData\\Local\\Continuum\\anaconda3\\lib\\site-packages\\sklearn\\linear_model\\logistic.py:469: FutureWarning: Default multi_class will be changed to 'auto' in 0.22. Specify the multi_class option to silence this warning.\n",
      "  \"this warning.\", FutureWarning)\n",
      "C:\\Users\\avilagj\\AppData\\Local\\Continuum\\anaconda3\\lib\\site-packages\\sklearn\\linear_model\\logistic.py:469: FutureWarning: Default multi_class will be changed to 'auto' in 0.22. Specify the multi_class option to silence this warning.\n",
      "  \"this warning.\", FutureWarning)\n",
      "C:\\Users\\avilagj\\AppData\\Local\\Continuum\\anaconda3\\lib\\site-packages\\sklearn\\linear_model\\logistic.py:469: FutureWarning: Default multi_class will be changed to 'auto' in 0.22. Specify the multi_class option to silence this warning.\n",
      "  \"this warning.\", FutureWarning)\n",
      "C:\\Users\\avilagj\\AppData\\Local\\Continuum\\anaconda3\\lib\\site-packages\\sklearn\\linear_model\\logistic.py:469: FutureWarning: Default multi_class will be changed to 'auto' in 0.22. Specify the multi_class option to silence this warning.\n",
      "  \"this warning.\", FutureWarning)\n",
      "C:\\Users\\avilagj\\AppData\\Local\\Continuum\\anaconda3\\lib\\site-packages\\sklearn\\linear_model\\logistic.py:469: FutureWarning: Default multi_class will be changed to 'auto' in 0.22. Specify the multi_class option to silence this warning.\n",
      "  \"this warning.\", FutureWarning)\n",
      "C:\\Users\\avilagj\\AppData\\Local\\Continuum\\anaconda3\\lib\\site-packages\\sklearn\\linear_model\\logistic.py:469: FutureWarning: Default multi_class will be changed to 'auto' in 0.22. Specify the multi_class option to silence this warning.\n",
      "  \"this warning.\", FutureWarning)\n",
      "C:\\Users\\avilagj\\AppData\\Local\\Continuum\\anaconda3\\lib\\site-packages\\sklearn\\linear_model\\logistic.py:469: FutureWarning: Default multi_class will be changed to 'auto' in 0.22. Specify the multi_class option to silence this warning.\n",
      "  \"this warning.\", FutureWarning)\n",
      "C:\\Users\\avilagj\\AppData\\Local\\Continuum\\anaconda3\\lib\\site-packages\\sklearn\\linear_model\\logistic.py:469: FutureWarning: Default multi_class will be changed to 'auto' in 0.22. Specify the multi_class option to silence this warning.\n",
      "  \"this warning.\", FutureWarning)\n",
      "C:\\Users\\avilagj\\AppData\\Local\\Continuum\\anaconda3\\lib\\site-packages\\sklearn\\linear_model\\logistic.py:469: FutureWarning: Default multi_class will be changed to 'auto' in 0.22. Specify the multi_class option to silence this warning.\n",
      "  \"this warning.\", FutureWarning)\n",
      "C:\\Users\\avilagj\\AppData\\Local\\Continuum\\anaconda3\\lib\\site-packages\\sklearn\\linear_model\\logistic.py:469: FutureWarning: Default multi_class will be changed to 'auto' in 0.22. Specify the multi_class option to silence this warning.\n",
      "  \"this warning.\", FutureWarning)\n",
      "C:\\Users\\avilagj\\AppData\\Local\\Continuum\\anaconda3\\lib\\site-packages\\sklearn\\linear_model\\logistic.py:469: FutureWarning: Default multi_class will be changed to 'auto' in 0.22. Specify the multi_class option to silence this warning.\n",
      "  \"this warning.\", FutureWarning)\n",
      "C:\\Users\\avilagj\\AppData\\Local\\Continuum\\anaconda3\\lib\\site-packages\\sklearn\\linear_model\\logistic.py:469: FutureWarning: Default multi_class will be changed to 'auto' in 0.22. Specify the multi_class option to silence this warning.\n",
      "  \"this warning.\", FutureWarning)\n",
      "C:\\Users\\avilagj\\AppData\\Local\\Continuum\\anaconda3\\lib\\site-packages\\sklearn\\linear_model\\logistic.py:469: FutureWarning: Default multi_class will be changed to 'auto' in 0.22. Specify the multi_class option to silence this warning.\n",
      "  \"this warning.\", FutureWarning)\n",
      "C:\\Users\\avilagj\\AppData\\Local\\Continuum\\anaconda3\\lib\\site-packages\\sklearn\\linear_model\\logistic.py:469: FutureWarning: Default multi_class will be changed to 'auto' in 0.22. Specify the multi_class option to silence this warning.\n",
      "  \"this warning.\", FutureWarning)\n",
      "C:\\Users\\avilagj\\AppData\\Local\\Continuum\\anaconda3\\lib\\site-packages\\sklearn\\linear_model\\logistic.py:469: FutureWarning: Default multi_class will be changed to 'auto' in 0.22. Specify the multi_class option to silence this warning.\n",
      "  \"this warning.\", FutureWarning)\n",
      "C:\\Users\\avilagj\\AppData\\Local\\Continuum\\anaconda3\\lib\\site-packages\\sklearn\\linear_model\\logistic.py:469: FutureWarning: Default multi_class will be changed to 'auto' in 0.22. Specify the multi_class option to silence this warning.\n",
      "  \"this warning.\", FutureWarning)\n",
      "C:\\Users\\avilagj\\AppData\\Local\\Continuum\\anaconda3\\lib\\site-packages\\sklearn\\linear_model\\logistic.py:469: FutureWarning: Default multi_class will be changed to 'auto' in 0.22. Specify the multi_class option to silence this warning.\n",
      "  \"this warning.\", FutureWarning)\n",
      "C:\\Users\\avilagj\\AppData\\Local\\Continuum\\anaconda3\\lib\\site-packages\\sklearn\\linear_model\\logistic.py:469: FutureWarning: Default multi_class will be changed to 'auto' in 0.22. Specify the multi_class option to silence this warning.\n",
      "  \"this warning.\", FutureWarning)\n",
      "C:\\Users\\avilagj\\AppData\\Local\\Continuum\\anaconda3\\lib\\site-packages\\sklearn\\linear_model\\logistic.py:469: FutureWarning: Default multi_class will be changed to 'auto' in 0.22. Specify the multi_class option to silence this warning.\n",
      "  \"this warning.\", FutureWarning)\n",
      "C:\\Users\\avilagj\\AppData\\Local\\Continuum\\anaconda3\\lib\\site-packages\\sklearn\\linear_model\\logistic.py:469: FutureWarning: Default multi_class will be changed to 'auto' in 0.22. Specify the multi_class option to silence this warning.\n",
      "  \"this warning.\", FutureWarning)\n",
      "C:\\Users\\avilagj\\AppData\\Local\\Continuum\\anaconda3\\lib\\site-packages\\sklearn\\linear_model\\logistic.py:469: FutureWarning: Default multi_class will be changed to 'auto' in 0.22. Specify the multi_class option to silence this warning.\n",
      "  \"this warning.\", FutureWarning)\n",
      "C:\\Users\\avilagj\\AppData\\Local\\Continuum\\anaconda3\\lib\\site-packages\\sklearn\\linear_model\\logistic.py:469: FutureWarning: Default multi_class will be changed to 'auto' in 0.22. Specify the multi_class option to silence this warning.\n",
      "  \"this warning.\", FutureWarning)\n",
      "C:\\Users\\avilagj\\AppData\\Local\\Continuum\\anaconda3\\lib\\site-packages\\sklearn\\linear_model\\logistic.py:469: FutureWarning: Default multi_class will be changed to 'auto' in 0.22. Specify the multi_class option to silence this warning.\n",
      "  \"this warning.\", FutureWarning)\n",
      "C:\\Users\\avilagj\\AppData\\Local\\Continuum\\anaconda3\\lib\\site-packages\\sklearn\\linear_model\\logistic.py:469: FutureWarning: Default multi_class will be changed to 'auto' in 0.22. Specify the multi_class option to silence this warning.\n",
      "  \"this warning.\", FutureWarning)\n"
     ]
    },
    {
     "name": "stderr",
     "output_type": "stream",
     "text": [
      "C:\\Users\\avilagj\\AppData\\Local\\Continuum\\anaconda3\\lib\\site-packages\\sklearn\\linear_model\\logistic.py:469: FutureWarning: Default multi_class will be changed to 'auto' in 0.22. Specify the multi_class option to silence this warning.\n",
      "  \"this warning.\", FutureWarning)\n",
      "C:\\Users\\avilagj\\AppData\\Local\\Continuum\\anaconda3\\lib\\site-packages\\sklearn\\linear_model\\logistic.py:469: FutureWarning: Default multi_class will be changed to 'auto' in 0.22. Specify the multi_class option to silence this warning.\n",
      "  \"this warning.\", FutureWarning)\n",
      "C:\\Users\\avilagj\\AppData\\Local\\Continuum\\anaconda3\\lib\\site-packages\\sklearn\\linear_model\\logistic.py:469: FutureWarning: Default multi_class will be changed to 'auto' in 0.22. Specify the multi_class option to silence this warning.\n",
      "  \"this warning.\", FutureWarning)\n",
      "C:\\Users\\avilagj\\AppData\\Local\\Continuum\\anaconda3\\lib\\site-packages\\sklearn\\linear_model\\logistic.py:469: FutureWarning: Default multi_class will be changed to 'auto' in 0.22. Specify the multi_class option to silence this warning.\n",
      "  \"this warning.\", FutureWarning)\n",
      "C:\\Users\\avilagj\\AppData\\Local\\Continuum\\anaconda3\\lib\\site-packages\\sklearn\\linear_model\\logistic.py:469: FutureWarning: Default multi_class will be changed to 'auto' in 0.22. Specify the multi_class option to silence this warning.\n",
      "  \"this warning.\", FutureWarning)\n",
      "C:\\Users\\avilagj\\AppData\\Local\\Continuum\\anaconda3\\lib\\site-packages\\sklearn\\linear_model\\logistic.py:469: FutureWarning: Default multi_class will be changed to 'auto' in 0.22. Specify the multi_class option to silence this warning.\n",
      "  \"this warning.\", FutureWarning)\n",
      "C:\\Users\\avilagj\\AppData\\Local\\Continuum\\anaconda3\\lib\\site-packages\\sklearn\\linear_model\\logistic.py:469: FutureWarning: Default multi_class will be changed to 'auto' in 0.22. Specify the multi_class option to silence this warning.\n",
      "  \"this warning.\", FutureWarning)\n",
      "C:\\Users\\avilagj\\AppData\\Local\\Continuum\\anaconda3\\lib\\site-packages\\sklearn\\linear_model\\logistic.py:469: FutureWarning: Default multi_class will be changed to 'auto' in 0.22. Specify the multi_class option to silence this warning.\n",
      "  \"this warning.\", FutureWarning)\n",
      "C:\\Users\\avilagj\\AppData\\Local\\Continuum\\anaconda3\\lib\\site-packages\\sklearn\\linear_model\\logistic.py:469: FutureWarning: Default multi_class will be changed to 'auto' in 0.22. Specify the multi_class option to silence this warning.\n",
      "  \"this warning.\", FutureWarning)\n",
      "C:\\Users\\avilagj\\AppData\\Local\\Continuum\\anaconda3\\lib\\site-packages\\sklearn\\linear_model\\logistic.py:469: FutureWarning: Default multi_class will be changed to 'auto' in 0.22. Specify the multi_class option to silence this warning.\n",
      "  \"this warning.\", FutureWarning)\n",
      "C:\\Users\\avilagj\\AppData\\Local\\Continuum\\anaconda3\\lib\\site-packages\\sklearn\\linear_model\\logistic.py:469: FutureWarning: Default multi_class will be changed to 'auto' in 0.22. Specify the multi_class option to silence this warning.\n",
      "  \"this warning.\", FutureWarning)\n",
      "C:\\Users\\avilagj\\AppData\\Local\\Continuum\\anaconda3\\lib\\site-packages\\sklearn\\linear_model\\logistic.py:469: FutureWarning: Default multi_class will be changed to 'auto' in 0.22. Specify the multi_class option to silence this warning.\n",
      "  \"this warning.\", FutureWarning)\n",
      "C:\\Users\\avilagj\\AppData\\Local\\Continuum\\anaconda3\\lib\\site-packages\\sklearn\\linear_model\\logistic.py:469: FutureWarning: Default multi_class will be changed to 'auto' in 0.22. Specify the multi_class option to silence this warning.\n",
      "  \"this warning.\", FutureWarning)\n",
      "C:\\Users\\avilagj\\AppData\\Local\\Continuum\\anaconda3\\lib\\site-packages\\sklearn\\linear_model\\logistic.py:469: FutureWarning: Default multi_class will be changed to 'auto' in 0.22. Specify the multi_class option to silence this warning.\n",
      "  \"this warning.\", FutureWarning)\n",
      "C:\\Users\\avilagj\\AppData\\Local\\Continuum\\anaconda3\\lib\\site-packages\\sklearn\\linear_model\\logistic.py:469: FutureWarning: Default multi_class will be changed to 'auto' in 0.22. Specify the multi_class option to silence this warning.\n",
      "  \"this warning.\", FutureWarning)\n",
      "C:\\Users\\avilagj\\AppData\\Local\\Continuum\\anaconda3\\lib\\site-packages\\sklearn\\linear_model\\logistic.py:469: FutureWarning: Default multi_class will be changed to 'auto' in 0.22. Specify the multi_class option to silence this warning.\n",
      "  \"this warning.\", FutureWarning)\n",
      "C:\\Users\\avilagj\\AppData\\Local\\Continuum\\anaconda3\\lib\\site-packages\\sklearn\\linear_model\\logistic.py:469: FutureWarning: Default multi_class will be changed to 'auto' in 0.22. Specify the multi_class option to silence this warning.\n",
      "  \"this warning.\", FutureWarning)\n",
      "C:\\Users\\avilagj\\AppData\\Local\\Continuum\\anaconda3\\lib\\site-packages\\sklearn\\linear_model\\logistic.py:469: FutureWarning: Default multi_class will be changed to 'auto' in 0.22. Specify the multi_class option to silence this warning.\n",
      "  \"this warning.\", FutureWarning)\n",
      "C:\\Users\\avilagj\\AppData\\Local\\Continuum\\anaconda3\\lib\\site-packages\\sklearn\\linear_model\\logistic.py:469: FutureWarning: Default multi_class will be changed to 'auto' in 0.22. Specify the multi_class option to silence this warning.\n",
      "  \"this warning.\", FutureWarning)\n",
      "C:\\Users\\avilagj\\AppData\\Local\\Continuum\\anaconda3\\lib\\site-packages\\sklearn\\linear_model\\logistic.py:469: FutureWarning: Default multi_class will be changed to 'auto' in 0.22. Specify the multi_class option to silence this warning.\n",
      "  \"this warning.\", FutureWarning)\n",
      "C:\\Users\\avilagj\\AppData\\Local\\Continuum\\anaconda3\\lib\\site-packages\\sklearn\\linear_model\\logistic.py:469: FutureWarning: Default multi_class will be changed to 'auto' in 0.22. Specify the multi_class option to silence this warning.\n",
      "  \"this warning.\", FutureWarning)\n",
      "C:\\Users\\avilagj\\AppData\\Local\\Continuum\\anaconda3\\lib\\site-packages\\sklearn\\linear_model\\logistic.py:469: FutureWarning: Default multi_class will be changed to 'auto' in 0.22. Specify the multi_class option to silence this warning.\n",
      "  \"this warning.\", FutureWarning)\n",
      "C:\\Users\\avilagj\\AppData\\Local\\Continuum\\anaconda3\\lib\\site-packages\\sklearn\\linear_model\\logistic.py:469: FutureWarning: Default multi_class will be changed to 'auto' in 0.22. Specify the multi_class option to silence this warning.\n",
      "  \"this warning.\", FutureWarning)\n",
      "C:\\Users\\avilagj\\AppData\\Local\\Continuum\\anaconda3\\lib\\site-packages\\sklearn\\linear_model\\logistic.py:469: FutureWarning: Default multi_class will be changed to 'auto' in 0.22. Specify the multi_class option to silence this warning.\n",
      "  \"this warning.\", FutureWarning)\n",
      "C:\\Users\\avilagj\\AppData\\Local\\Continuum\\anaconda3\\lib\\site-packages\\sklearn\\linear_model\\logistic.py:469: FutureWarning: Default multi_class will be changed to 'auto' in 0.22. Specify the multi_class option to silence this warning.\n",
      "  \"this warning.\", FutureWarning)\n",
      "C:\\Users\\avilagj\\AppData\\Local\\Continuum\\anaconda3\\lib\\site-packages\\sklearn\\linear_model\\logistic.py:469: FutureWarning: Default multi_class will be changed to 'auto' in 0.22. Specify the multi_class option to silence this warning.\n",
      "  \"this warning.\", FutureWarning)\n",
      "C:\\Users\\avilagj\\AppData\\Local\\Continuum\\anaconda3\\lib\\site-packages\\sklearn\\linear_model\\logistic.py:469: FutureWarning: Default multi_class will be changed to 'auto' in 0.22. Specify the multi_class option to silence this warning.\n",
      "  \"this warning.\", FutureWarning)\n",
      "C:\\Users\\avilagj\\AppData\\Local\\Continuum\\anaconda3\\lib\\site-packages\\sklearn\\linear_model\\logistic.py:469: FutureWarning: Default multi_class will be changed to 'auto' in 0.22. Specify the multi_class option to silence this warning.\n",
      "  \"this warning.\", FutureWarning)\n",
      "C:\\Users\\avilagj\\AppData\\Local\\Continuum\\anaconda3\\lib\\site-packages\\sklearn\\linear_model\\logistic.py:469: FutureWarning: Default multi_class will be changed to 'auto' in 0.22. Specify the multi_class option to silence this warning.\n",
      "  \"this warning.\", FutureWarning)\n",
      "C:\\Users\\avilagj\\AppData\\Local\\Continuum\\anaconda3\\lib\\site-packages\\sklearn\\linear_model\\logistic.py:469: FutureWarning: Default multi_class will be changed to 'auto' in 0.22. Specify the multi_class option to silence this warning.\n",
      "  \"this warning.\", FutureWarning)\n",
      "C:\\Users\\avilagj\\AppData\\Local\\Continuum\\anaconda3\\lib\\site-packages\\sklearn\\linear_model\\logistic.py:469: FutureWarning: Default multi_class will be changed to 'auto' in 0.22. Specify the multi_class option to silence this warning.\n",
      "  \"this warning.\", FutureWarning)\n",
      "C:\\Users\\avilagj\\AppData\\Local\\Continuum\\anaconda3\\lib\\site-packages\\sklearn\\linear_model\\logistic.py:469: FutureWarning: Default multi_class will be changed to 'auto' in 0.22. Specify the multi_class option to silence this warning.\n",
      "  \"this warning.\", FutureWarning)\n",
      "C:\\Users\\avilagj\\AppData\\Local\\Continuum\\anaconda3\\lib\\site-packages\\sklearn\\linear_model\\logistic.py:469: FutureWarning: Default multi_class will be changed to 'auto' in 0.22. Specify the multi_class option to silence this warning.\n",
      "  \"this warning.\", FutureWarning)\n",
      "C:\\Users\\avilagj\\AppData\\Local\\Continuum\\anaconda3\\lib\\site-packages\\sklearn\\linear_model\\logistic.py:469: FutureWarning: Default multi_class will be changed to 'auto' in 0.22. Specify the multi_class option to silence this warning.\n",
      "  \"this warning.\", FutureWarning)\n",
      "C:\\Users\\avilagj\\AppData\\Local\\Continuum\\anaconda3\\lib\\site-packages\\sklearn\\linear_model\\logistic.py:469: FutureWarning: Default multi_class will be changed to 'auto' in 0.22. Specify the multi_class option to silence this warning.\n",
      "  \"this warning.\", FutureWarning)\n"
     ]
    },
    {
     "name": "stderr",
     "output_type": "stream",
     "text": [
      "C:\\Users\\avilagj\\AppData\\Local\\Continuum\\anaconda3\\lib\\site-packages\\sklearn\\linear_model\\logistic.py:469: FutureWarning: Default multi_class will be changed to 'auto' in 0.22. Specify the multi_class option to silence this warning.\n",
      "  \"this warning.\", FutureWarning)\n",
      "C:\\Users\\avilagj\\AppData\\Local\\Continuum\\anaconda3\\lib\\site-packages\\sklearn\\linear_model\\logistic.py:469: FutureWarning: Default multi_class will be changed to 'auto' in 0.22. Specify the multi_class option to silence this warning.\n",
      "  \"this warning.\", FutureWarning)\n",
      "C:\\Users\\avilagj\\AppData\\Local\\Continuum\\anaconda3\\lib\\site-packages\\sklearn\\linear_model\\logistic.py:469: FutureWarning: Default multi_class will be changed to 'auto' in 0.22. Specify the multi_class option to silence this warning.\n",
      "  \"this warning.\", FutureWarning)\n",
      "C:\\Users\\avilagj\\AppData\\Local\\Continuum\\anaconda3\\lib\\site-packages\\sklearn\\linear_model\\logistic.py:469: FutureWarning: Default multi_class will be changed to 'auto' in 0.22. Specify the multi_class option to silence this warning.\n",
      "  \"this warning.\", FutureWarning)\n",
      "C:\\Users\\avilagj\\AppData\\Local\\Continuum\\anaconda3\\lib\\site-packages\\sklearn\\linear_model\\logistic.py:469: FutureWarning: Default multi_class will be changed to 'auto' in 0.22. Specify the multi_class option to silence this warning.\n",
      "  \"this warning.\", FutureWarning)\n",
      "C:\\Users\\avilagj\\AppData\\Local\\Continuum\\anaconda3\\lib\\site-packages\\sklearn\\linear_model\\logistic.py:469: FutureWarning: Default multi_class will be changed to 'auto' in 0.22. Specify the multi_class option to silence this warning.\n",
      "  \"this warning.\", FutureWarning)\n",
      "C:\\Users\\avilagj\\AppData\\Local\\Continuum\\anaconda3\\lib\\site-packages\\sklearn\\linear_model\\logistic.py:469: FutureWarning: Default multi_class will be changed to 'auto' in 0.22. Specify the multi_class option to silence this warning.\n",
      "  \"this warning.\", FutureWarning)\n",
      "C:\\Users\\avilagj\\AppData\\Local\\Continuum\\anaconda3\\lib\\site-packages\\sklearn\\linear_model\\logistic.py:469: FutureWarning: Default multi_class will be changed to 'auto' in 0.22. Specify the multi_class option to silence this warning.\n",
      "  \"this warning.\", FutureWarning)\n",
      "C:\\Users\\avilagj\\AppData\\Local\\Continuum\\anaconda3\\lib\\site-packages\\sklearn\\linear_model\\logistic.py:469: FutureWarning: Default multi_class will be changed to 'auto' in 0.22. Specify the multi_class option to silence this warning.\n",
      "  \"this warning.\", FutureWarning)\n",
      "C:\\Users\\avilagj\\AppData\\Local\\Continuum\\anaconda3\\lib\\site-packages\\sklearn\\linear_model\\logistic.py:469: FutureWarning: Default multi_class will be changed to 'auto' in 0.22. Specify the multi_class option to silence this warning.\n",
      "  \"this warning.\", FutureWarning)\n",
      "C:\\Users\\avilagj\\AppData\\Local\\Continuum\\anaconda3\\lib\\site-packages\\sklearn\\linear_model\\logistic.py:469: FutureWarning: Default multi_class will be changed to 'auto' in 0.22. Specify the multi_class option to silence this warning.\n",
      "  \"this warning.\", FutureWarning)\n",
      "C:\\Users\\avilagj\\AppData\\Local\\Continuum\\anaconda3\\lib\\site-packages\\sklearn\\linear_model\\logistic.py:469: FutureWarning: Default multi_class will be changed to 'auto' in 0.22. Specify the multi_class option to silence this warning.\n",
      "  \"this warning.\", FutureWarning)\n",
      "C:\\Users\\avilagj\\AppData\\Local\\Continuum\\anaconda3\\lib\\site-packages\\sklearn\\linear_model\\logistic.py:469: FutureWarning: Default multi_class will be changed to 'auto' in 0.22. Specify the multi_class option to silence this warning.\n",
      "  \"this warning.\", FutureWarning)\n",
      "C:\\Users\\avilagj\\AppData\\Local\\Continuum\\anaconda3\\lib\\site-packages\\sklearn\\linear_model\\logistic.py:469: FutureWarning: Default multi_class will be changed to 'auto' in 0.22. Specify the multi_class option to silence this warning.\n",
      "  \"this warning.\", FutureWarning)\n",
      "C:\\Users\\avilagj\\AppData\\Local\\Continuum\\anaconda3\\lib\\site-packages\\sklearn\\linear_model\\logistic.py:469: FutureWarning: Default multi_class will be changed to 'auto' in 0.22. Specify the multi_class option to silence this warning.\n",
      "  \"this warning.\", FutureWarning)\n",
      "C:\\Users\\avilagj\\AppData\\Local\\Continuum\\anaconda3\\lib\\site-packages\\sklearn\\linear_model\\logistic.py:469: FutureWarning: Default multi_class will be changed to 'auto' in 0.22. Specify the multi_class option to silence this warning.\n",
      "  \"this warning.\", FutureWarning)\n",
      "C:\\Users\\avilagj\\AppData\\Local\\Continuum\\anaconda3\\lib\\site-packages\\sklearn\\linear_model\\logistic.py:469: FutureWarning: Default multi_class will be changed to 'auto' in 0.22. Specify the multi_class option to silence this warning.\n",
      "  \"this warning.\", FutureWarning)\n",
      "C:\\Users\\avilagj\\AppData\\Local\\Continuum\\anaconda3\\lib\\site-packages\\sklearn\\linear_model\\logistic.py:469: FutureWarning: Default multi_class will be changed to 'auto' in 0.22. Specify the multi_class option to silence this warning.\n",
      "  \"this warning.\", FutureWarning)\n",
      "C:\\Users\\avilagj\\AppData\\Local\\Continuum\\anaconda3\\lib\\site-packages\\sklearn\\linear_model\\logistic.py:469: FutureWarning: Default multi_class will be changed to 'auto' in 0.22. Specify the multi_class option to silence this warning.\n",
      "  \"this warning.\", FutureWarning)\n",
      "C:\\Users\\avilagj\\AppData\\Local\\Continuum\\anaconda3\\lib\\site-packages\\sklearn\\linear_model\\logistic.py:469: FutureWarning: Default multi_class will be changed to 'auto' in 0.22. Specify the multi_class option to silence this warning.\n",
      "  \"this warning.\", FutureWarning)\n",
      "C:\\Users\\avilagj\\AppData\\Local\\Continuum\\anaconda3\\lib\\site-packages\\sklearn\\linear_model\\logistic.py:469: FutureWarning: Default multi_class will be changed to 'auto' in 0.22. Specify the multi_class option to silence this warning.\n",
      "  \"this warning.\", FutureWarning)\n",
      "C:\\Users\\avilagj\\AppData\\Local\\Continuum\\anaconda3\\lib\\site-packages\\sklearn\\linear_model\\logistic.py:469: FutureWarning: Default multi_class will be changed to 'auto' in 0.22. Specify the multi_class option to silence this warning.\n",
      "  \"this warning.\", FutureWarning)\n",
      "C:\\Users\\avilagj\\AppData\\Local\\Continuum\\anaconda3\\lib\\site-packages\\sklearn\\linear_model\\logistic.py:469: FutureWarning: Default multi_class will be changed to 'auto' in 0.22. Specify the multi_class option to silence this warning.\n",
      "  \"this warning.\", FutureWarning)\n",
      "C:\\Users\\avilagj\\AppData\\Local\\Continuum\\anaconda3\\lib\\site-packages\\sklearn\\linear_model\\logistic.py:469: FutureWarning: Default multi_class will be changed to 'auto' in 0.22. Specify the multi_class option to silence this warning.\n",
      "  \"this warning.\", FutureWarning)\n",
      "C:\\Users\\avilagj\\AppData\\Local\\Continuum\\anaconda3\\lib\\site-packages\\sklearn\\linear_model\\logistic.py:469: FutureWarning: Default multi_class will be changed to 'auto' in 0.22. Specify the multi_class option to silence this warning.\n",
      "  \"this warning.\", FutureWarning)\n",
      "C:\\Users\\avilagj\\AppData\\Local\\Continuum\\anaconda3\\lib\\site-packages\\sklearn\\linear_model\\logistic.py:469: FutureWarning: Default multi_class will be changed to 'auto' in 0.22. Specify the multi_class option to silence this warning.\n",
      "  \"this warning.\", FutureWarning)\n",
      "C:\\Users\\avilagj\\AppData\\Local\\Continuum\\anaconda3\\lib\\site-packages\\sklearn\\linear_model\\logistic.py:469: FutureWarning: Default multi_class will be changed to 'auto' in 0.22. Specify the multi_class option to silence this warning.\n",
      "  \"this warning.\", FutureWarning)\n",
      "C:\\Users\\avilagj\\AppData\\Local\\Continuum\\anaconda3\\lib\\site-packages\\sklearn\\linear_model\\logistic.py:469: FutureWarning: Default multi_class will be changed to 'auto' in 0.22. Specify the multi_class option to silence this warning.\n",
      "  \"this warning.\", FutureWarning)\n",
      "C:\\Users\\avilagj\\AppData\\Local\\Continuum\\anaconda3\\lib\\site-packages\\sklearn\\linear_model\\logistic.py:469: FutureWarning: Default multi_class will be changed to 'auto' in 0.22. Specify the multi_class option to silence this warning.\n",
      "  \"this warning.\", FutureWarning)\n",
      "C:\\Users\\avilagj\\AppData\\Local\\Continuum\\anaconda3\\lib\\site-packages\\sklearn\\linear_model\\logistic.py:469: FutureWarning: Default multi_class will be changed to 'auto' in 0.22. Specify the multi_class option to silence this warning.\n",
      "  \"this warning.\", FutureWarning)\n",
      "C:\\Users\\avilagj\\AppData\\Local\\Continuum\\anaconda3\\lib\\site-packages\\sklearn\\linear_model\\logistic.py:469: FutureWarning: Default multi_class will be changed to 'auto' in 0.22. Specify the multi_class option to silence this warning.\n",
      "  \"this warning.\", FutureWarning)\n",
      "C:\\Users\\avilagj\\AppData\\Local\\Continuum\\anaconda3\\lib\\site-packages\\sklearn\\linear_model\\logistic.py:469: FutureWarning: Default multi_class will be changed to 'auto' in 0.22. Specify the multi_class option to silence this warning.\n",
      "  \"this warning.\", FutureWarning)\n"
     ]
    },
    {
     "data": {
      "text/plain": [
       "<matplotlib.legend.Legend at 0x2876919c808>"
      ]
     },
     "execution_count": 359,
     "metadata": {},
     "output_type": "execute_result"
    },
    {
     "data": {
      "image/png": "[encoded data removed]",
      "text/plain": [
       "<Figure size 432x288 with 1 Axes>"
      ]
     },
     "metadata": {
      "needs_background": "light"
     },
     "output_type": "display_data"
    }
   ],
   "source": [
    "import matplotlib.pyplot as plt\n",
    "%matplotlib inline\n",
    "training_acc = []\n",
    "test_acc = []\n",
    "rango = range(1, 100)\n",
    "for c in rango:\n",
    "    clf = LogisticRegression(C=c, solver='liblinear')\n",
    "    clf.fit(X_train, y_train)\n",
    "    training_acc.append(clf.score(X_train, y_train))\n",
    "    test_acc.append(clf.score(X_test, y_test))\n",
    "plt.plot(rango, training_acc, label=\"training accuracy\")\n",
    "plt.plot(rango, test_acc, label=\"test accuracy\")\n",
    "plt.ylabel(\"Accuracy\")\n",
    "plt.xlabel(\"C\")\n",
    "plt.legend()"
   ]
  },
  {
   "cell_type": "code",
   "execution_count": null,
   "metadata": {},
   "outputs": [],
   "source": []
  }
 ],
 "metadata": {
  "kernelspec": {
   "display_name": "Python 3",
   "language": "python",
   "name": "python3"
  },
  "language_info": {
   "codemirror_mode": {
    "name": "ipython",
    "version": 3
   },
   "file_extension": ".py",
   "mimetype": "text/x-python",
   "name": "python",
   "nbconvert_exporter": "python",
   "pygments_lexer": "ipython3",
   "version": "3.7.4"
  }
 },
 "nbformat": 4,
 "nbformat_minor": 5
}
